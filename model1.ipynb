{
 "cells": [
  {
   "cell_type": "code",
   "execution_count": 1,
   "metadata": {},
   "outputs": [],
   "source": [
    "import tensorflow as tf\n",
    "import tensorflow_datasets as tfds\n",
    "import numpy as np\n",
    "import tensorflow_hub as hub"
   ]
  },
  {
   "cell_type": "code",
   "execution_count": 2,
   "metadata": {},
   "outputs": [],
   "source": [
    "train_data, validation_data, test_data = tfds.load(\n",
    "    name=\"imdb_reviews\",\n",
    "    split=[\n",
    "   tfds.Split.TRAIN.subsplit(tfds.percent[:60]),\n",
    "   tfds.Split.TRAIN.subsplit(tfds.percent[60:]),\n",
    "   tfds.Split.TEST\n",
    "],\n",
    "    as_supervised=True)"
   ]
  },
  {
   "cell_type": "code",
   "execution_count": 3,
   "metadata": {},
   "outputs": [
    {
     "data": {
      "text/plain": [
       "(TensorSpec(shape=(), dtype=tf.string, name=None),\n",
       " TensorSpec(shape=(), dtype=tf.int64, name=None))"
      ]
     },
     "execution_count": 3,
     "metadata": {},
     "output_type": "execute_result"
    }
   ],
   "source": [
    "train_data.element_spec"
   ]
  },
  {
   "cell_type": "code",
   "execution_count": 41,
   "metadata": {},
   "outputs": [],
   "source": [
    "embedding = \"nnlm-en-dim50_2/\"\n",
    "hub_layer = hub.KerasLayer(embedding, input_shape=[], \n",
    "                           dtype=tf.string, trainable=True)"
   ]
  },
  {
   "cell_type": "code",
   "execution_count": 46,
   "metadata": {},
   "outputs": [
    {
     "name": "stdout",
     "output_type": "stream",
     "text": [
      "Model: \"sequential_18\"\n",
      "_________________________________________________________________\n",
      "Layer (type)                 Output Shape              Param #   \n",
      "=================================================================\n",
      "keras_layer_10 (KerasLayer)  (None, 50)                48190600  \n",
      "_________________________________________________________________\n",
      "dense_5 (Dense)              (None, 64)                3264      \n",
      "_________________________________________________________________\n",
      "dropout (Dropout)            (None, 64)                0         \n",
      "_________________________________________________________________\n",
      "dense_6 (Dense)              (None, 64)                4160      \n",
      "_________________________________________________________________\n",
      "dense_7 (Dense)              (None, 1)                 65        \n",
      "=================================================================\n",
      "Total params: 48,198,089\n",
      "Trainable params: 48,198,089\n",
      "Non-trainable params: 0\n",
      "_________________________________________________________________\n"
     ]
    }
   ],
   "source": [
    "model = tf.keras.Sequential()\n",
    "model.add(hub_layer)\n",
    "model.add(tf.keras.layers.Dense(64, activation='relu'))\n",
    "model.add(tf.keras.layers.Dropout(rate=0.2))\n",
    "model.add(tf.keras.layers.Dense(64, activation='relu'))\n",
    "model.add(tf.keras.layers.Dense(1))\n",
    "\n",
    "model.summary()\n"
   ]
  },
  {
   "cell_type": "code",
   "execution_count": 48,
   "metadata": {},
   "outputs": [],
   "source": [
    "model.compile(optimizer='adam',\n",
    "              loss=tf.keras.losses.BinaryCrossentropy(from_logits=True),\n",
    "              metrics=['accuracy'])"
   ]
  },
  {
   "cell_type": "code",
   "execution_count": null,
   "metadata": {},
   "outputs": [],
   "source": []
  },
  {
   "cell_type": "code",
   "execution_count": 49,
   "metadata": {},
   "outputs": [
    {
     "name": "stdout",
     "output_type": "stream",
     "text": [
      "Epoch 1/10\n",
      "30/30 [==============================] - 26s 852ms/step - loss: 0.6392 - accuracy: 0.5701 - val_loss: 0.5524 - val_accuracy: 0.6702\n",
      "Epoch 2/10\n",
      "30/30 [==============================] - 19s 642ms/step - loss: 0.4606 - accuracy: 0.7717 - val_loss: 0.3778 - val_accuracy: 0.8227\n",
      "Epoch 3/10\n",
      "30/30 [==============================] - 19s 648ms/step - loss: 0.2946 - accuracy: 0.8753 - val_loss: 0.3306 - val_accuracy: 0.8601\n",
      "Epoch 4/10\n",
      "30/30 [==============================] - 19s 635ms/step - loss: 0.1886 - accuracy: 0.9291 - val_loss: 0.3276 - val_accuracy: 0.8663\n",
      "Epoch 5/10\n",
      "30/30 [==============================] - 20s 652ms/step - loss: 0.1131 - accuracy: 0.9622 - val_loss: 0.3508 - val_accuracy: 0.8674\n",
      "Epoch 6/10\n",
      "30/30 [==============================] - 19s 650ms/step - loss: 0.0655 - accuracy: 0.9807 - val_loss: 0.3921 - val_accuracy: 0.8685\n",
      "Epoch 7/10\n",
      "30/30 [==============================] - 20s 659ms/step - loss: 0.0341 - accuracy: 0.9915 - val_loss: 0.4618 - val_accuracy: 0.8641\n",
      "Epoch 8/10\n",
      "30/30 [==============================] - 21s 684ms/step - loss: 0.0177 - accuracy: 0.9970 - val_loss: 0.5025 - val_accuracy: 0.8656\n",
      "Epoch 9/10\n",
      "30/30 [==============================] - 21s 690ms/step - loss: 0.0107 - accuracy: 0.9985 - val_loss: 0.5448 - val_accuracy: 0.8635\n",
      "Epoch 10/10\n",
      "30/30 [==============================] - 20s 664ms/step - loss: 0.0074 - accuracy: 0.9993 - val_loss: 0.5822 - val_accuracy: 0.8630\n"
     ]
    }
   ],
   "source": [
    "history = model.fit(train_data.shuffle(10000).batch(512),\n",
    "                    epochs=10,\n",
    "                    validation_data=validation_data.batch(512),\n",
    "                    verbose=1)"
   ]
  },
  {
   "cell_type": "code",
   "execution_count": 56,
   "metadata": {},
   "outputs": [],
   "source": [
    "model.save('model_py/model.h5')"
   ]
  },
  {
   "cell_type": "code",
   "execution_count": null,
   "metadata": {},
   "outputs": [],
   "source": []
  }
 ],
 "metadata": {
  "kernelspec": {
   "display_name": "Python 3",
   "language": "python",
   "name": "python3"
  },
  "language_info": {
   "codemirror_mode": {
    "name": "ipython",
    "version": 3
   },
   "file_extension": ".py",
   "mimetype": "text/x-python",
   "name": "python",
   "nbconvert_exporter": "python",
   "pygments_lexer": "ipython3",
   "version": "3.7.9"
  }
 },
 "nbformat": 4,
 "nbformat_minor": 4
}
